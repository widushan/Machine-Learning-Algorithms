{
 "cells": [
  {
   "cell_type": "code",
   "execution_count": 1,
   "id": "d669bd9e",
   "metadata": {},
   "outputs": [
    {
     "name": "stdout",
     "output_type": "stream",
     "text": [
      "   Math  Chemistry  Maths  Physics  General_Test\n",
      "0    70         60     70       50            70\n",
      "1    60         80     60       50            70\n",
      "2    40         65     40       50            60\n",
      "3    80         55     80       50            60\n",
      "4    30         60     30       50            80\n"
     ]
    }
   ],
   "source": [
    "\n",
    "import pandas as pd\n",
    "\n",
    "data = pd.DataFrame({'Math':[70, 60, 40, 80, 30],\n",
    "                    'Chemistry':[60, 80, 65, 55, 60],\n",
    "                    'Maths':[70, 60, 40, 80, 30],\n",
    "                    'Physics':[50, 50, 50, 50, 50],\n",
    "                    'General_Test':[70, 70, 60, 60, 80]})\n",
    "\n",
    "print(data)"
   ]
  },
  {
   "cell_type": "markdown",
   "id": "59173d28",
   "metadata": {},
   "source": [
    "# Variance Threshold"
   ]
  },
  {
   "cell_type": "code",
   "execution_count": 2,
   "id": "10150c45",
   "metadata": {},
   "outputs": [
    {
     "name": "stdout",
     "output_type": "stream",
     "text": [
      "   Math  Chemistry  Maths  General_Test\n",
      "0    70         60     70            70\n",
      "1    60         80     60            70\n",
      "2    40         65     40            60\n",
      "3    80         55     80            60\n",
      "4    30         60     30            80\n"
     ]
    }
   ],
   "source": [
    "from sklearn.feature_selection import VarianceThreshold\n",
    "\n",
    "selector = VarianceThreshold(threshold=0)\n",
    "selected_features = selector.fit_transform(data)\n",
    "\n",
    "data = pd.DataFrame(selected_features, columns=selector.get_feature_names_out())\n",
    "print(data)"
   ]
  },
  {
   "cell_type": "markdown",
   "id": "432557b7",
   "metadata": {},
   "source": [
    "# Pearson Correlation"
   ]
  },
  {
   "cell_type": "code",
   "execution_count": 3,
   "id": "f0655c25",
   "metadata": {},
   "outputs": [
    {
     "data": {
      "image/png": "[encoded data removed]",
      "text/plain": [
       "<Figure size 800x600 with 2 Axes>"
      ]
     },
     "metadata": {},
     "output_type": "display_data"
    }
   ],
   "source": [
    "import numpy as np\n",
    "import matplotlib.pyplot as plt\n",
    "import seaborn as sns\n",
    "\n",
    "#Using Pearson Correlation\n",
    "cor = data.corr()\n",
    "\n",
    "plt.figure(figsize=(8,6))\n",
    "sns.heatmap(cor, annot=True, cmap='Wistia')\n",
    "plt.show()"
   ]
  },
  {
   "cell_type": "code",
   "execution_count": 4,
   "id": "6fff1da8",
   "metadata": {},
   "outputs": [],
   "source": [
    "corr_features = set()\n",
    "for i in range(len(cor.columns)):\n",
    "    for j in range(i):\n",
    "        if abs(cor.iloc[i, j]) > 0.9:\n",
    "            colname = cor.columns[i]\n",
    "            corr_features.add(colname)"
   ]
  },
  {
   "cell_type": "code",
   "execution_count": 5,
   "id": "1987929e",
   "metadata": {},
   "outputs": [
    {
     "data": {
      "text/plain": [
       "{'Maths'}"
      ]
     },
     "execution_count": 5,
     "metadata": {},
     "output_type": "execute_result"
    }
   ],
   "source": [
    "corr_features"
   ]
  },
  {
   "cell_type": "code",
   "execution_count": 6,
   "id": "fbc2dfd1",
   "metadata": {},
   "outputs": [
    {
     "name": "stdout",
     "output_type": "stream",
     "text": [
      "   Math  Chemistry  General_Test\n",
      "0    70         60            70\n",
      "1    60         80            70\n",
      "2    40         65            60\n",
      "3    80         55            60\n",
      "4    30         60            80\n"
     ]
    }
   ],
   "source": [
    "data = data.drop(corr_features, axis=1)\n",
    "print(data)"
   ]
  },
  {
   "cell_type": "code",
   "execution_count": null,
   "id": "1f12a0ce",
   "metadata": {},
   "outputs": [],
   "source": []
  }
 ],
 "metadata": {
  "kernelspec": {
   "display_name": "Python 3",
   "language": "python",
   "name": "python3"
  },
  "language_info": {
   "codemirror_mode": {
    "name": "ipython",
    "version": 3
   },
   "file_extension": ".py",
   "mimetype": "text/x-python",
   "name": "python",
   "nbconvert_exporter": "python",
   "pygments_lexer": "ipython3",
   "version": "3.11.0"
  }
 },
 "nbformat": 4,
 "nbformat_minor": 5
}
