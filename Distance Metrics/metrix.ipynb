{
 "cells": [
  {
   "cell_type": "code",
   "execution_count": 1,
   "id": "27127ae6",
   "metadata": {},
   "outputs": [],
   "source": [
    "A = (5, 3)\n",
    "B = (2, 4)"
   ]
  },
  {
   "cell_type": "code",
   "execution_count": 2,
   "id": "61bf9480",
   "metadata": {},
   "outputs": [],
   "source": [
    "from scipy.spatial import distance"
   ]
  },
  {
   "cell_type": "code",
   "execution_count": 3,
   "id": "8a781518",
   "metadata": {},
   "outputs": [
    {
     "name": "stdout",
     "output_type": "stream",
     "text": [
      "3.1622776601683795\n"
     ]
    }
   ],
   "source": [
    "# Euclidean Distance\n",
    "\n",
    "d = distance.euclidean(A, B)\n",
    "print(d)"
   ]
  },
  {
   "cell_type": "code",
   "execution_count": 4,
   "id": "3e34db19",
   "metadata": {},
   "outputs": [
    {
     "name": "stdout",
     "output_type": "stream",
     "text": [
      "4\n"
     ]
    }
   ],
   "source": [
    "# Manhattan Distance\n",
    "\n",
    "d = distance.cityblock(A, B)\n",
    "print(d)"
   ]
  },
  {
   "cell_type": "code",
   "execution_count": 5,
   "id": "71021195",
   "metadata": {},
   "outputs": [
    {
     "name": "stdout",
     "output_type": "stream",
     "text": [
      "0.15633851226789253\n"
     ]
    }
   ],
   "source": [
    "# Cosine Distance\n",
    "\n",
    "d = distance.cosine(A, B)\n",
    "print(d)"
   ]
  }
 ],
 "metadata": {
  "kernelspec": {
   "display_name": "Python 3",
   "language": "python",
   "name": "python3"
  },
  "language_info": {
   "codemirror_mode": {
    "name": "ipython",
    "version": 3
   },
   "file_extension": ".py",
   "mimetype": "text/x-python",
   "name": "python",
   "nbconvert_exporter": "python",
   "pygments_lexer": "ipython3",
   "version": "3.11.0"
  }
 },
 "nbformat": 4,
 "nbformat_minor": 5
}
